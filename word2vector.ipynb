{
  "nbformat": 4,
  "nbformat_minor": 0,
  "metadata": {
    "colab": {
      "name": "word2vector.ipynb",
      "provenance": [],
      "collapsed_sections": [],
      "authorship_tag": "ABX9TyMx1/10MT389h/HNhtcVI2M",
      "include_colab_link": true
    },
    "kernelspec": {
      "name": "python3",
      "display_name": "Python 3"
    }
  },
  "cells": [
    {
      "cell_type": "markdown",
      "metadata": {
        "id": "view-in-github",
        "colab_type": "text"
      },
      "source": [
        "<a href=\"https://colab.research.google.com/github/ashishgeorge1811/naturallanguage/blob/master/word2vector.ipynb\" target=\"_parent\"><img src=\"https://colab.research.google.com/assets/colab-badge.svg\" alt=\"Open In Colab\"/></a>"
      ]
    },
    {
      "cell_type": "code",
      "metadata": {
        "id": "0Gozzg0dauch",
        "colab_type": "code",
        "colab": {}
      },
      "source": [
        "import nltk\n",
        "nltk.download('all')"
      ],
      "execution_count": 0,
      "outputs": []
    },
    {
      "cell_type": "code",
      "metadata": {
        "id": "0o8OD1ANlOml",
        "colab_type": "code",
        "colab": {}
      },
      "source": [
        "import re\n",
        "from nltk.corpus import stopwords"
      ],
      "execution_count": 0,
      "outputs": []
    },
    {
      "cell_type": "code",
      "metadata": {
        "id": "DVfSb4leo55B",
        "colab_type": "code",
        "colab": {}
      },
      "source": [
        "paragraph = \"\"\"I have three visions for India. In 3000 years of our history, people from all over \n",
        "               the world have come and invaded us, captured our lands, conquered our minds. \n",
        "               From Alexander onwards, the Greeks, the Turks, the Moguls, the Portuguese, the British,\n",
        "               the French, the Dutch, all of them came and looted us, took over what was ours. \n",
        "               Yet we have not done this to any other nation. We have not conquered anyone. \n",
        "               We have not grabbed their land, their culture, \n",
        "               their history and tried to enforce our way of life on them. \n",
        "               Why? Because we respect the freedom of others.That is why my \n",
        "               first vision is that of freedom. I believe that India got its first vision of \n",
        "               this in 1857, when we started the War of Independence. It is this freedom that\n",
        "               we must protect and nurture and build on. If we are not free, no one will respect us.\n",
        "               My second vision for India’s development. For fifty years we have been a developing nation.\n",
        "               It is time we see ourselves as a developed nation. We are among the top 5 nations of the world\n",
        "               in terms of GDP. We have a 10 percent growth rate in most areas. Our poverty levels are falling.\n",
        "               Our achievements are being globally recognised today. Yet we lack the self-confidence to\n",
        "               see ourselves as a developed nation, self-reliant and self-assured. Isn’t this incorrect?\n",
        "               I have a third vision. India must stand up to the world. Because I believe that unless India \n",
        "               stands up to the world, no one will respect us. Only strength respects strength. We must be \n",
        "               strong not only as a military power but also as an economic power. Both must go hand-in-hand. \n",
        "               My good fortune was to have worked with three great minds. Dr. Vikram Sarabhai of the Dept. of \n",
        "               space, Professor Satish Dhawan, who succeeded him and Dr. Brahm Prakash, father of nuclear material.\n",
        "               I was lucky to have worked with all three of them closely and consider this the great opportunity of my life. \n",
        "               I see four milestones in my career\"\"\" "
      ],
      "execution_count": 0,
      "outputs": []
    },
    {
      "cell_type": "code",
      "metadata": {
        "id": "H_v-1zd4o6A6",
        "colab_type": "code",
        "outputId": "4f33b984-2697-4052-eb13-939e29174437",
        "colab": {
          "base_uri": "https://localhost:8080/",
          "height": 55
        }
      },
      "source": [
        "text = re.sub(r'\\[[0-9]*\\]',' ',paragraph)\n",
        "text = re.sub(r'\\s+',' ',text)\n",
        "text = text.lower()\n",
        "text = re.sub(r'\\d',' ',text)\n",
        "text = re.sub(r'\\s+',' ',text)\n",
        "text\n",
        "\n"
      ],
      "execution_count": 0,
      "outputs": [
        {
          "output_type": "execute_result",
          "data": {
            "text/plain": [
              "'i have three visions for india. in years of our history, people from all over the world have come and invaded us, captured our lands, conquered our minds. from alexander onwards, the greeks, the turks, the moguls, the portuguese, the british, the french, the dutch, all of them came and looted us, took over what was ours. yet we have not done this to any other nation. we have not conquered anyone. we have not grabbed their land, their culture, their history and tried to enforce our way of life on them. why? because we respect the freedom of others.that is why my first vision is that of freedom. i believe that india got its first vision of this in , when we started the war of independence. it is this freedom that we must protect and nurture and build on. if we are not free, no one will respect us. my second vision for india’s development. for fifty years we have been a developing nation. it is time we see ourselves as a developed nation. we are among the top nations of the world in terms of gdp. we have a percent growth rate in most areas. our poverty levels are falling. our achievements are being globally recognised today. yet we lack the self-confidence to see ourselves as a developed nation, self-reliant and self-assured. isn’t this incorrect? i have a third vision. india must stand up to the world. because i believe that unless india stands up to the world, no one will respect us. only strength respects strength. we must be strong not only as a military power but also as an economic power. both must go hand-in-hand. my good fortune was to have worked with three great minds. dr. vikram sarabhai of the dept. of space, professor satish dhawan, who succeeded him and dr. brahm prakash, father of nuclear material. i was lucky to have worked with all three of them closely and consider this the great opportunity of my life. i see four milestones in my career'"
            ]
          },
          "metadata": {
            "tags": []
          },
          "execution_count": 22
        }
      ]
    },
    {
      "cell_type": "code",
      "metadata": {
        "id": "DEpPQBZVo6Dh",
        "colab_type": "code",
        "colab": {}
      },
      "source": [
        "sentences = nltk.sent_tokenize(text)\n",
        "sentences =[nltk.word_tokenize(sentence)for sentence in sentences ]"
      ],
      "execution_count": 0,
      "outputs": []
    },
    {
      "cell_type": "code",
      "metadata": {
        "id": "waZm60Abo6Ht",
        "colab_type": "code",
        "colab": {}
      },
      "source": [
        "for i in range(len(sentences)):\n",
        "  sentences[i]=[word for word in sentences[i] if word not in stopwords.words('english')]"
      ],
      "execution_count": 0,
      "outputs": []
    },
    {
      "cell_type": "code",
      "metadata": {
        "id": "qX65nYQzo6Gl",
        "colab_type": "code",
        "colab": {}
      },
      "source": [
        "#word2vector\n",
        "from gensim.models import Word2Vec\n",
        "model = Word2Vec(sentences,min_count =1)"
      ],
      "execution_count": 0,
      "outputs": []
    },
    {
      "cell_type": "code",
      "metadata": {
        "id": "v1JXUNo4o57_",
        "colab_type": "code",
        "outputId": "80404a00-6de9-4d43-e7d3-7d5109152432",
        "colab": {
          "base_uri": "https://localhost:8080/",
          "height": 1000
        }
      },
      "source": [
        "#words in vocabulary\n",
        "vocabulary =model.wv.vocab  #saving the words\n",
        "vocabulary"
      ],
      "execution_count": 0,
      "outputs": [
        {
          "output_type": "execute_result",
          "data": {
            "text/plain": [
              "{',': <gensim.models.keyedvectors.Vocab at 0x7f96ac729e48>,\n",
              " '.': <gensim.models.keyedvectors.Vocab at 0x7f96ac729da0>,\n",
              " '?': <gensim.models.keyedvectors.Vocab at 0x7f96ac72d5c0>,\n",
              " 'achievements': <gensim.models.keyedvectors.Vocab at 0x7f96ac72ddd8>,\n",
              " 'alexander': <gensim.models.keyedvectors.Vocab at 0x7f96ac72d0b8>,\n",
              " 'also': <gensim.models.keyedvectors.Vocab at 0x7f96ac6c7208>,\n",
              " 'among': <gensim.models.keyedvectors.Vocab at 0x7f96ac72db38>,\n",
              " 'anyone': <gensim.models.keyedvectors.Vocab at 0x7f96ac72d400>,\n",
              " 'areas': <gensim.models.keyedvectors.Vocab at 0x7f96ac72dcf8>,\n",
              " 'believe': <gensim.models.keyedvectors.Vocab at 0x7f96ac72d710>,\n",
              " 'brahm': <gensim.models.keyedvectors.Vocab at 0x7f96ac6c75c0>,\n",
              " 'british': <gensim.models.keyedvectors.Vocab at 0x7f96ac72d208>,\n",
              " 'build': <gensim.models.keyedvectors.Vocab at 0x7f96ac72d8d0>,\n",
              " 'came': <gensim.models.keyedvectors.Vocab at 0x7f96ac72d2b0>,\n",
              " 'captured': <gensim.models.keyedvectors.Vocab at 0x7f96ac729f98>,\n",
              " 'career': <gensim.models.keyedvectors.Vocab at 0x7f96ac6c7828>,\n",
              " 'closely': <gensim.models.keyedvectors.Vocab at 0x7f96ac6c7710>,\n",
              " 'come': <gensim.models.keyedvectors.Vocab at 0x7f96ac729ef0>,\n",
              " 'conquered': <gensim.models.keyedvectors.Vocab at 0x7f96ac72d048>,\n",
              " 'consider': <gensim.models.keyedvectors.Vocab at 0x7f96ac6c7748>,\n",
              " 'culture': <gensim.models.keyedvectors.Vocab at 0x7f96ac72d4a8>,\n",
              " 'dept': <gensim.models.keyedvectors.Vocab at 0x7f96ac6c7470>,\n",
              " 'developed': <gensim.models.keyedvectors.Vocab at 0x7f96ac72db00>,\n",
              " 'developing': <gensim.models.keyedvectors.Vocab at 0x7f96ac72da58>,\n",
              " 'development': <gensim.models.keyedvectors.Vocab at 0x7f96ac72d9e8>,\n",
              " 'dhawan': <gensim.models.keyedvectors.Vocab at 0x7f96ac6c7550>,\n",
              " 'done': <gensim.models.keyedvectors.Vocab at 0x7f96ac72d390>,\n",
              " 'dr.': <gensim.models.keyedvectors.Vocab at 0x7f96ac6c73c8>,\n",
              " 'dutch': <gensim.models.keyedvectors.Vocab at 0x7f96ac72d278>,\n",
              " 'economic': <gensim.models.keyedvectors.Vocab at 0x7f96ac6c7240>,\n",
              " 'enforce': <gensim.models.keyedvectors.Vocab at 0x7f96ac72d518>,\n",
              " 'falling': <gensim.models.keyedvectors.Vocab at 0x7f96ac72dda0>,\n",
              " 'father': <gensim.models.keyedvectors.Vocab at 0x7f96ac6c7630>,\n",
              " 'fifty': <gensim.models.keyedvectors.Vocab at 0x7f96ac72da20>,\n",
              " 'first': <gensim.models.keyedvectors.Vocab at 0x7f96ac72d6a0>,\n",
              " 'fortune': <gensim.models.keyedvectors.Vocab at 0x7f96ac6c7320>,\n",
              " 'four': <gensim.models.keyedvectors.Vocab at 0x7f96ac6c77b8>,\n",
              " 'free': <gensim.models.keyedvectors.Vocab at 0x7f96ac72d908>,\n",
              " 'freedom': <gensim.models.keyedvectors.Vocab at 0x7f96ac72d630>,\n",
              " 'french': <gensim.models.keyedvectors.Vocab at 0x7f96ac72d240>,\n",
              " 'gdp': <gensim.models.keyedvectors.Vocab at 0x7f96ac72dc18>,\n",
              " 'globally': <gensim.models.keyedvectors.Vocab at 0x7f96ac72de10>,\n",
              " 'go': <gensim.models.keyedvectors.Vocab at 0x7f96ac6c7278>,\n",
              " 'good': <gensim.models.keyedvectors.Vocab at 0x7f96ac6c72e8>,\n",
              " 'got': <gensim.models.keyedvectors.Vocab at 0x7f96ac72d748>,\n",
              " 'grabbed': <gensim.models.keyedvectors.Vocab at 0x7f96ac72d438>,\n",
              " 'great': <gensim.models.keyedvectors.Vocab at 0x7f96ac6c7390>,\n",
              " 'greeks': <gensim.models.keyedvectors.Vocab at 0x7f96ac72d128>,\n",
              " 'growth': <gensim.models.keyedvectors.Vocab at 0x7f96ac72dc88>,\n",
              " 'hand-in-hand': <gensim.models.keyedvectors.Vocab at 0x7f96ac6c72b0>,\n",
              " 'history': <gensim.models.keyedvectors.Vocab at 0x7f96ac729e10>,\n",
              " 'incorrect': <gensim.models.keyedvectors.Vocab at 0x7f96ac72df98>,\n",
              " 'independence': <gensim.models.keyedvectors.Vocab at 0x7f96ac72d7f0>,\n",
              " 'india': <gensim.models.keyedvectors.Vocab at 0x7f96ac729cf8>,\n",
              " 'invaded': <gensim.models.keyedvectors.Vocab at 0x7f96ac729f28>,\n",
              " 'lack': <gensim.models.keyedvectors.Vocab at 0x7f96ac72deb8>,\n",
              " 'land': <gensim.models.keyedvectors.Vocab at 0x7f96ac72d470>,\n",
              " 'lands': <gensim.models.keyedvectors.Vocab at 0x7f96ac729fd0>,\n",
              " 'levels': <gensim.models.keyedvectors.Vocab at 0x7f96ac72dd68>,\n",
              " 'life': <gensim.models.keyedvectors.Vocab at 0x7f96ac72d588>,\n",
              " 'looted': <gensim.models.keyedvectors.Vocab at 0x7f96ac72d2e8>,\n",
              " 'lucky': <gensim.models.keyedvectors.Vocab at 0x7f96ac6c76d8>,\n",
              " 'material': <gensim.models.keyedvectors.Vocab at 0x7f96ac6c76a0>,\n",
              " 'milestones': <gensim.models.keyedvectors.Vocab at 0x7f96ac6c77f0>,\n",
              " 'military': <gensim.models.keyedvectors.Vocab at 0x7f96ac6c7198>,\n",
              " 'minds': <gensim.models.keyedvectors.Vocab at 0x7f96ac72d080>,\n",
              " 'moguls': <gensim.models.keyedvectors.Vocab at 0x7f96ac72d198>,\n",
              " 'must': <gensim.models.keyedvectors.Vocab at 0x7f96ac72d828>,\n",
              " 'nation': <gensim.models.keyedvectors.Vocab at 0x7f96ac72d3c8>,\n",
              " 'nations': <gensim.models.keyedvectors.Vocab at 0x7f96ac72dba8>,\n",
              " 'nuclear': <gensim.models.keyedvectors.Vocab at 0x7f96ac6c7668>,\n",
              " 'nurture': <gensim.models.keyedvectors.Vocab at 0x7f96ac72d898>,\n",
              " 'one': <gensim.models.keyedvectors.Vocab at 0x7f96ac72d940>,\n",
              " 'onwards': <gensim.models.keyedvectors.Vocab at 0x7f96ac72d0f0>,\n",
              " 'opportunity': <gensim.models.keyedvectors.Vocab at 0x7f96ac6c7780>,\n",
              " 'others.that': <gensim.models.keyedvectors.Vocab at 0x7f96ac72d668>,\n",
              " 'people': <gensim.models.keyedvectors.Vocab at 0x7f96ac729e80>,\n",
              " 'percent': <gensim.models.keyedvectors.Vocab at 0x7f96ac72dc50>,\n",
              " 'portuguese': <gensim.models.keyedvectors.Vocab at 0x7f96ac72d1d0>,\n",
              " 'poverty': <gensim.models.keyedvectors.Vocab at 0x7f96ac72dd30>,\n",
              " 'power': <gensim.models.keyedvectors.Vocab at 0x7f96ac6c71d0>,\n",
              " 'prakash': <gensim.models.keyedvectors.Vocab at 0x7f96ac6c75f8>,\n",
              " 'professor': <gensim.models.keyedvectors.Vocab at 0x7f96ac6c74e0>,\n",
              " 'protect': <gensim.models.keyedvectors.Vocab at 0x7f96ac72d860>,\n",
              " 'rate': <gensim.models.keyedvectors.Vocab at 0x7f96ac72dcc0>,\n",
              " 'recognised': <gensim.models.keyedvectors.Vocab at 0x7f96ac72de48>,\n",
              " 'respect': <gensim.models.keyedvectors.Vocab at 0x7f96ac72d5f8>,\n",
              " 'respects': <gensim.models.keyedvectors.Vocab at 0x7f96ac6c7128>,\n",
              " 'sarabhai': <gensim.models.keyedvectors.Vocab at 0x7f96ac6c7438>,\n",
              " 'satish': <gensim.models.keyedvectors.Vocab at 0x7f96ac6c7518>,\n",
              " 'second': <gensim.models.keyedvectors.Vocab at 0x7f96ac72d978>,\n",
              " 'see': <gensim.models.keyedvectors.Vocab at 0x7f96ac72dac8>,\n",
              " 'self-assured': <gensim.models.keyedvectors.Vocab at 0x7f96ac72df60>,\n",
              " 'self-confidence': <gensim.models.keyedvectors.Vocab at 0x7f96ac72def0>,\n",
              " 'self-reliant': <gensim.models.keyedvectors.Vocab at 0x7f96ac72df28>,\n",
              " 'space': <gensim.models.keyedvectors.Vocab at 0x7f96ac6c74a8>,\n",
              " 'stand': <gensim.models.keyedvectors.Vocab at 0x7f96ac6c7048>,\n",
              " 'stands': <gensim.models.keyedvectors.Vocab at 0x7f96ac6c70b8>,\n",
              " 'started': <gensim.models.keyedvectors.Vocab at 0x7f96ac72d780>,\n",
              " 'strength': <gensim.models.keyedvectors.Vocab at 0x7f96ac6c70f0>,\n",
              " 'strong': <gensim.models.keyedvectors.Vocab at 0x7f96ac6c7160>,\n",
              " 'succeeded': <gensim.models.keyedvectors.Vocab at 0x7f96ac6c7588>,\n",
              " 'terms': <gensim.models.keyedvectors.Vocab at 0x7f96ac72dbe0>,\n",
              " 'third': <gensim.models.keyedvectors.Vocab at 0x7f96ac72dfd0>,\n",
              " 'three': <gensim.models.keyedvectors.Vocab at 0x7f96d6015710>,\n",
              " 'time': <gensim.models.keyedvectors.Vocab at 0x7f96ac72da90>,\n",
              " 'today': <gensim.models.keyedvectors.Vocab at 0x7f96ac72de80>,\n",
              " 'took': <gensim.models.keyedvectors.Vocab at 0x7f96ac72d320>,\n",
              " 'top': <gensim.models.keyedvectors.Vocab at 0x7f96ac72db70>,\n",
              " 'tried': <gensim.models.keyedvectors.Vocab at 0x7f96ac72d4e0>,\n",
              " 'turks': <gensim.models.keyedvectors.Vocab at 0x7f96ac72d160>,\n",
              " 'unless': <gensim.models.keyedvectors.Vocab at 0x7f96ac6c7080>,\n",
              " 'us': <gensim.models.keyedvectors.Vocab at 0x7f96ac729f60>,\n",
              " 'vikram': <gensim.models.keyedvectors.Vocab at 0x7f96ac6c7400>,\n",
              " 'vision': <gensim.models.keyedvectors.Vocab at 0x7f96ac72d6d8>,\n",
              " 'visions': <gensim.models.keyedvectors.Vocab at 0x7f96d6015780>,\n",
              " 'war': <gensim.models.keyedvectors.Vocab at 0x7f96ac72d7b8>,\n",
              " 'way': <gensim.models.keyedvectors.Vocab at 0x7f96ac72d550>,\n",
              " 'worked': <gensim.models.keyedvectors.Vocab at 0x7f96ac6c7358>,\n",
              " 'world': <gensim.models.keyedvectors.Vocab at 0x7f96ac729eb8>,\n",
              " 'years': <gensim.models.keyedvectors.Vocab at 0x7f96ac729dd8>,\n",
              " 'yet': <gensim.models.keyedvectors.Vocab at 0x7f96ac72d358>,\n",
              " '’': <gensim.models.keyedvectors.Vocab at 0x7f96ac72d9b0>}"
            ]
          },
          "metadata": {
            "tags": []
          },
          "execution_count": 36
        }
      ]
    },
    {
      "cell_type": "code",
      "metadata": {
        "id": "IBUVmlqVu1r5",
        "colab_type": "code",
        "outputId": "ce2dfb2f-083f-4608-e42b-1b84a664fa09",
        "colab": {
          "base_uri": "https://localhost:8080/",
          "height": 495
        }
      },
      "source": [
        "#Finding the word vectors\n",
        "find =model.wv['free']\n",
        "find"
      ],
      "execution_count": 0,
      "outputs": [
        {
          "output_type": "execute_result",
          "data": {
            "text/plain": [
              "array([-3.83487856e-03, -2.64629512e-03, -5.33865183e-04,  4.62388992e-03,\n",
              "       -2.83204997e-03, -1.29890295e-05, -1.64683757e-03, -4.47502034e-03,\n",
              "       -6.66919048e-04, -2.54169921e-03, -2.33813096e-03,  9.65783780e-04,\n",
              "        3.43138305e-03,  3.35115427e-03, -7.93185667e-04,  3.45566077e-03,\n",
              "        2.07129843e-03,  3.68701480e-03,  7.75533845e-04, -4.46553435e-03,\n",
              "        1.97504112e-03,  2.00063991e-03, -1.26812106e-03,  1.10911671e-03,\n",
              "        4.46350919e-03, -4.36612079e-03,  2.73572630e-03,  4.81198134e-04,\n",
              "       -2.46873312e-03,  5.00427675e-04,  6.01725187e-04, -2.22813105e-03,\n",
              "       -2.35323561e-03,  3.81740532e-03,  3.68971424e-03,  2.58556358e-03,\n",
              "       -2.20044260e-03, -3.61792231e-03,  2.91796611e-03,  4.81537357e-03,\n",
              "        4.34389105e-03,  9.82372367e-05,  3.43577797e-03,  3.49284010e-03,\n",
              "       -1.27580191e-03,  4.18858603e-03, -2.88486108e-03, -2.17502424e-03,\n",
              "       -1.00499531e-03, -4.74162679e-03,  4.67296829e-03, -1.58190762e-03,\n",
              "       -4.82051494e-03, -3.67412507e-03,  2.51459237e-03, -2.11562659e-03,\n",
              "        3.66958231e-03, -4.44566133e-03, -1.58554607e-03,  3.42526915e-03,\n",
              "       -3.35564557e-03, -1.81558693e-03,  1.19468686e-03, -9.06193382e-05,\n",
              "       -1.66778555e-04, -4.82683303e-03, -3.19568207e-03,  2.58536893e-03,\n",
              "        3.07745393e-03,  3.32581485e-03, -3.95690557e-03, -2.42571044e-03,\n",
              "        2.04059528e-03, -1.41246396e-03,  3.85545520e-03,  4.82271053e-03,\n",
              "        3.79772275e-03, -2.79398146e-03,  2.45022774e-03,  1.47514546e-03,\n",
              "        9.72125155e-04, -3.88037442e-04,  9.77400690e-04,  2.62348121e-03,\n",
              "       -1.72322721e-03,  3.11635947e-03, -5.09242876e-04,  2.98034004e-03,\n",
              "       -3.11976136e-03, -4.90616541e-04,  2.81004747e-03,  4.18967567e-03,\n",
              "        4.13717283e-03, -3.83401150e-03, -5.84708410e-04,  8.86074209e-04,\n",
              "        2.65859603e-03, -4.77089221e-03, -1.01348793e-04,  2.12231162e-03],\n",
              "      dtype=float32)"
            ]
          },
          "metadata": {
            "tags": []
          },
          "execution_count": 35
        }
      ]
    },
    {
      "cell_type": "code",
      "metadata": {
        "id": "AFQsXKZlu1xp",
        "colab_type": "code",
        "outputId": "68711750-29bb-40ad-feda-2aecb6682071",
        "colab": {
          "base_uri": "https://localhost:8080/",
          "height": 257
        }
      },
      "source": [
        "#Most similar words\n",
        "similar =model.wv.most_similar('free')\n",
        "similar"
      ],
      "execution_count": 0,
      "outputs": [
        {
          "output_type": "stream",
          "text": [
            "/usr/local/lib/python3.6/dist-packages/gensim/matutils.py:737: FutureWarning: Conversion of the second argument of issubdtype from `int` to `np.signedinteger` is deprecated. In future, it will be treated as `np.int64 == np.dtype(int).type`.\n",
            "  if np.issubdtype(vec.dtype, np.int):\n"
          ],
          "name": "stderr"
        },
        {
          "output_type": "execute_result",
          "data": {
            "text/plain": [
              "[('prakash', 0.26466992497444153),\n",
              " ('development', 0.21416562795639038),\n",
              " ('turks', 0.19640225172042847),\n",
              " ('started', 0.18631459772586823),\n",
              " ('succeeded', 0.1838681399822235),\n",
              " ('globally', 0.18185491859912872),\n",
              " ('milestones', 0.1608133763074875),\n",
              " ('invaded', 0.14716742932796478),\n",
              " ('incorrect', 0.1334228217601776),\n",
              " ('unless', 0.12643960118293762)]"
            ]
          },
          "metadata": {
            "tags": []
          },
          "execution_count": 40
        }
      ]
    },
    {
      "cell_type": "code",
      "metadata": {
        "id": "B1MTjkIzzsFs",
        "colab_type": "code",
        "colab": {}
      },
      "source": [
        ""
      ],
      "execution_count": 0,
      "outputs": []
    }
  ]
}